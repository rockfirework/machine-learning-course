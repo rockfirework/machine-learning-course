{
 "cells": [
  {
   "cell_type": "markdown",
   "id": "ba3794cf",
   "metadata": {
    "papermill": {
     "duration": 0.041781,
     "end_time": "2021-12-14T10:53:06.900173",
     "exception": false,
     "start_time": "2021-12-14T10:53:06.858392",
     "status": "completed"
    },
    "tags": []
   },
   "source": [
    "1、导入数据"
   ]
  },
  {
   "cell_type": "code",
   "execution_count": 1,
   "id": "07b21831",
   "metadata": {
    "execution": {
     "iopub.execute_input": "2021-12-14T10:53:06.992268Z",
     "iopub.status.busy": "2021-12-14T10:53:06.991388Z",
     "iopub.status.idle": "2021-12-14T10:53:06.997239Z",
     "shell.execute_reply": "2021-12-14T10:53:06.996327Z",
     "shell.execute_reply.started": "2021-12-14T10:51:31.670618Z"
    },
    "papermill": {
     "duration": 0.0581,
     "end_time": "2021-12-14T10:53:06.997431",
     "exception": false,
     "start_time": "2021-12-14T10:53:06.939331",
     "status": "completed"
    },
    "tags": []
   },
   "outputs": [
    {
     "name": "stdout",
     "output_type": "stream",
     "text": [
      "['new-york-city-taxi-fare-prediction']\n"
     ]
    }
   ],
   "source": [
    "# Initial Python environment setup...\n",
    "import numpy as np # linear algebra\n",
    "import pandas as pd # CSV file I/O (e.g. pd.read_csv)\n",
    "import os # reading the input files we have access to\n",
    "\n",
    "print(os.listdir('../input'))"
   ]
  },
  {
   "cell_type": "code",
   "execution_count": 2,
   "id": "9c29faaa",
   "metadata": {
    "execution": {
     "iopub.execute_input": "2021-12-14T10:53:07.084758Z",
     "iopub.status.busy": "2021-12-14T10:53:07.083761Z",
     "iopub.status.idle": "2021-12-14T10:53:07.170290Z",
     "shell.execute_reply": "2021-12-14T10:53:07.170868Z",
     "shell.execute_reply.started": "2021-12-14T10:51:31.701411Z"
    },
    "papermill": {
     "duration": 0.131573,
     "end_time": "2021-12-14T10:53:07.171076",
     "exception": false,
     "start_time": "2021-12-14T10:53:07.039503",
     "status": "completed"
    },
    "tags": []
   },
   "outputs": [],
   "source": [
    "train =  pd.read_csv('../input/new-york-city-taxi-fare-prediction/train.csv', nrows = 10000)\n",
    "\n",
    "test = pd.read_csv(\"../input/new-york-city-taxi-fare-prediction/test.csv\")"
   ]
  },
  {
   "cell_type": "markdown",
   "id": "9a8f1e5a",
   "metadata": {
    "papermill": {
     "duration": 0.03906,
     "end_time": "2021-12-14T10:53:07.251992",
     "exception": false,
     "start_time": "2021-12-14T10:53:07.212932",
     "status": "completed"
    },
    "tags": []
   },
   "source": [
    "2、查看数据基本情况"
   ]
  },
  {
   "cell_type": "code",
   "execution_count": 3,
   "id": "e786ffea",
   "metadata": {
    "execution": {
     "iopub.execute_input": "2021-12-14T10:53:07.339037Z",
     "iopub.status.busy": "2021-12-14T10:53:07.338348Z",
     "iopub.status.idle": "2021-12-14T10:53:07.341770Z",
     "shell.execute_reply": "2021-12-14T10:53:07.342250Z",
     "shell.execute_reply.started": "2021-12-14T10:51:31.791907Z"
    },
    "papermill": {
     "duration": 0.050779,
     "end_time": "2021-12-14T10:53:07.342450",
     "exception": false,
     "start_time": "2021-12-14T10:53:07.291671",
     "status": "completed"
    },
    "tags": []
   },
   "outputs": [
    {
     "data": {
      "text/plain": [
       "(10000, 8)"
      ]
     },
     "execution_count": 3,
     "metadata": {},
     "output_type": "execute_result"
    }
   ],
   "source": [
    "train.shape"
   ]
  },
  {
   "cell_type": "code",
   "execution_count": 4,
   "id": "156f1bfe",
   "metadata": {
    "execution": {
     "iopub.execute_input": "2021-12-14T10:53:07.427801Z",
     "iopub.status.busy": "2021-12-14T10:53:07.427129Z",
     "iopub.status.idle": "2021-12-14T10:53:07.430537Z",
     "shell.execute_reply": "2021-12-14T10:53:07.429929Z",
     "shell.execute_reply.started": "2021-12-14T10:51:31.802117Z"
    },
    "papermill": {
     "duration": 0.048487,
     "end_time": "2021-12-14T10:53:07.430720",
     "exception": false,
     "start_time": "2021-12-14T10:53:07.382233",
     "status": "completed"
    },
    "tags": []
   },
   "outputs": [
    {
     "data": {
      "text/plain": [
       "(9914, 7)"
      ]
     },
     "execution_count": 4,
     "metadata": {},
     "output_type": "execute_result"
    }
   ],
   "source": [
    "test.shape"
   ]
  },
  {
   "cell_type": "markdown",
   "id": "5e701efc",
   "metadata": {
    "papermill": {
     "duration": 0.039596,
     "end_time": "2021-12-14T10:53:07.510100",
     "exception": false,
     "start_time": "2021-12-14T10:53:07.470504",
     "status": "completed"
    },
    "tags": []
   },
   "source": [
    "训练集有100万行数据，8个字段。预测集有9914行数据，7个字段。"
   ]
  },
  {
   "cell_type": "code",
   "execution_count": 5,
   "id": "710f22a4",
   "metadata": {
    "execution": {
     "iopub.execute_input": "2021-12-14T10:53:07.593467Z",
     "iopub.status.busy": "2021-12-14T10:53:07.592818Z",
     "iopub.status.idle": "2021-12-14T10:53:07.613642Z",
     "shell.execute_reply": "2021-12-14T10:53:07.614229Z",
     "shell.execute_reply.started": "2021-12-14T10:51:31.816464Z"
    },
    "papermill": {
     "duration": 0.064312,
     "end_time": "2021-12-14T10:53:07.614432",
     "exception": false,
     "start_time": "2021-12-14T10:53:07.550120",
     "status": "completed"
    },
    "tags": []
   },
   "outputs": [
    {
     "data": {
      "text/html": [
       "<div>\n",
       "<style scoped>\n",
       "    .dataframe tbody tr th:only-of-type {\n",
       "        vertical-align: middle;\n",
       "    }\n",
       "\n",
       "    .dataframe tbody tr th {\n",
       "        vertical-align: top;\n",
       "    }\n",
       "\n",
       "    .dataframe thead th {\n",
       "        text-align: right;\n",
       "    }\n",
       "</style>\n",
       "<table border=\"1\" class=\"dataframe\">\n",
       "  <thead>\n",
       "    <tr style=\"text-align: right;\">\n",
       "      <th></th>\n",
       "      <th>key</th>\n",
       "      <th>fare_amount</th>\n",
       "      <th>pickup_datetime</th>\n",
       "      <th>pickup_longitude</th>\n",
       "      <th>pickup_latitude</th>\n",
       "      <th>dropoff_longitude</th>\n",
       "      <th>dropoff_latitude</th>\n",
       "      <th>passenger_count</th>\n",
       "    </tr>\n",
       "  </thead>\n",
       "  <tbody>\n",
       "    <tr>\n",
       "      <th>0</th>\n",
       "      <td>2009-06-15 17:26:21.0000001</td>\n",
       "      <td>4.5</td>\n",
       "      <td>2009-06-15 17:26:21 UTC</td>\n",
       "      <td>-73.844311</td>\n",
       "      <td>40.721319</td>\n",
       "      <td>-73.841610</td>\n",
       "      <td>40.712278</td>\n",
       "      <td>1</td>\n",
       "    </tr>\n",
       "    <tr>\n",
       "      <th>1</th>\n",
       "      <td>2010-01-05 16:52:16.0000002</td>\n",
       "      <td>16.9</td>\n",
       "      <td>2010-01-05 16:52:16 UTC</td>\n",
       "      <td>-74.016048</td>\n",
       "      <td>40.711303</td>\n",
       "      <td>-73.979268</td>\n",
       "      <td>40.782004</td>\n",
       "      <td>1</td>\n",
       "    </tr>\n",
       "    <tr>\n",
       "      <th>2</th>\n",
       "      <td>2011-08-18 00:35:00.00000049</td>\n",
       "      <td>5.7</td>\n",
       "      <td>2011-08-18 00:35:00 UTC</td>\n",
       "      <td>-73.982738</td>\n",
       "      <td>40.761270</td>\n",
       "      <td>-73.991242</td>\n",
       "      <td>40.750562</td>\n",
       "      <td>2</td>\n",
       "    </tr>\n",
       "    <tr>\n",
       "      <th>3</th>\n",
       "      <td>2012-04-21 04:30:42.0000001</td>\n",
       "      <td>7.7</td>\n",
       "      <td>2012-04-21 04:30:42 UTC</td>\n",
       "      <td>-73.987130</td>\n",
       "      <td>40.733143</td>\n",
       "      <td>-73.991567</td>\n",
       "      <td>40.758092</td>\n",
       "      <td>1</td>\n",
       "    </tr>\n",
       "    <tr>\n",
       "      <th>4</th>\n",
       "      <td>2010-03-09 07:51:00.000000135</td>\n",
       "      <td>5.3</td>\n",
       "      <td>2010-03-09 07:51:00 UTC</td>\n",
       "      <td>-73.968095</td>\n",
       "      <td>40.768008</td>\n",
       "      <td>-73.956655</td>\n",
       "      <td>40.783762</td>\n",
       "      <td>1</td>\n",
       "    </tr>\n",
       "  </tbody>\n",
       "</table>\n",
       "</div>"
      ],
      "text/plain": [
       "                             key  fare_amount          pickup_datetime  \\\n",
       "0    2009-06-15 17:26:21.0000001          4.5  2009-06-15 17:26:21 UTC   \n",
       "1    2010-01-05 16:52:16.0000002         16.9  2010-01-05 16:52:16 UTC   \n",
       "2   2011-08-18 00:35:00.00000049          5.7  2011-08-18 00:35:00 UTC   \n",
       "3    2012-04-21 04:30:42.0000001          7.7  2012-04-21 04:30:42 UTC   \n",
       "4  2010-03-09 07:51:00.000000135          5.3  2010-03-09 07:51:00 UTC   \n",
       "\n",
       "   pickup_longitude  pickup_latitude  dropoff_longitude  dropoff_latitude  \\\n",
       "0        -73.844311        40.721319         -73.841610         40.712278   \n",
       "1        -74.016048        40.711303         -73.979268         40.782004   \n",
       "2        -73.982738        40.761270         -73.991242         40.750562   \n",
       "3        -73.987130        40.733143         -73.991567         40.758092   \n",
       "4        -73.968095        40.768008         -73.956655         40.783762   \n",
       "\n",
       "   passenger_count  \n",
       "0                1  \n",
       "1                1  \n",
       "2                2  \n",
       "3                1  \n",
       "4                1  "
      ]
     },
     "execution_count": 5,
     "metadata": {},
     "output_type": "execute_result"
    }
   ],
   "source": [
    "train.head()"
   ]
  },
  {
   "cell_type": "markdown",
   "id": "fd677098",
   "metadata": {
    "papermill": {
     "duration": 0.041621,
     "end_time": "2021-12-14T10:53:07.696534",
     "exception": false,
     "start_time": "2021-12-14T10:53:07.654913",
     "status": "completed"
    },
    "tags": []
   },
   "source": [
    "训练集train的描述性分析"
   ]
  },
  {
   "cell_type": "code",
   "execution_count": 6,
   "id": "30f2d6ee",
   "metadata": {
    "execution": {
     "iopub.execute_input": "2021-12-14T10:53:07.780753Z",
     "iopub.status.busy": "2021-12-14T10:53:07.780124Z",
     "iopub.status.idle": "2021-12-14T10:53:07.819565Z",
     "shell.execute_reply": "2021-12-14T10:53:07.820122Z",
     "shell.execute_reply.started": "2021-12-14T10:51:31.841829Z"
    },
    "papermill": {
     "duration": 0.083193,
     "end_time": "2021-12-14T10:53:07.820311",
     "exception": false,
     "start_time": "2021-12-14T10:53:07.737118",
     "status": "completed"
    },
    "tags": []
   },
   "outputs": [
    {
     "data": {
      "text/html": [
       "<div>\n",
       "<style scoped>\n",
       "    .dataframe tbody tr th:only-of-type {\n",
       "        vertical-align: middle;\n",
       "    }\n",
       "\n",
       "    .dataframe tbody tr th {\n",
       "        vertical-align: top;\n",
       "    }\n",
       "\n",
       "    .dataframe thead th {\n",
       "        text-align: right;\n",
       "    }\n",
       "</style>\n",
       "<table border=\"1\" class=\"dataframe\">\n",
       "  <thead>\n",
       "    <tr style=\"text-align: right;\">\n",
       "      <th></th>\n",
       "      <th>fare_amount</th>\n",
       "      <th>pickup_longitude</th>\n",
       "      <th>pickup_latitude</th>\n",
       "      <th>dropoff_longitude</th>\n",
       "      <th>dropoff_latitude</th>\n",
       "      <th>passenger_count</th>\n",
       "    </tr>\n",
       "  </thead>\n",
       "  <tbody>\n",
       "    <tr>\n",
       "      <th>count</th>\n",
       "      <td>10000.000000</td>\n",
       "      <td>10000.000000</td>\n",
       "      <td>10000.000000</td>\n",
       "      <td>10000.000000</td>\n",
       "      <td>10000.000000</td>\n",
       "      <td>10000.000000</td>\n",
       "    </tr>\n",
       "    <tr>\n",
       "      <th>mean</th>\n",
       "      <td>11.235464</td>\n",
       "      <td>-72.466660</td>\n",
       "      <td>39.920448</td>\n",
       "      <td>-72.474094</td>\n",
       "      <td>39.893281</td>\n",
       "      <td>1.644700</td>\n",
       "    </tr>\n",
       "    <tr>\n",
       "      <th>std</th>\n",
       "      <td>9.584258</td>\n",
       "      <td>10.609729</td>\n",
       "      <td>7.318932</td>\n",
       "      <td>10.579732</td>\n",
       "      <td>6.339919</td>\n",
       "      <td>1.271229</td>\n",
       "    </tr>\n",
       "    <tr>\n",
       "      <th>min</th>\n",
       "      <td>-2.900000</td>\n",
       "      <td>-74.438233</td>\n",
       "      <td>-74.006893</td>\n",
       "      <td>-74.429332</td>\n",
       "      <td>-73.994392</td>\n",
       "      <td>0.000000</td>\n",
       "    </tr>\n",
       "    <tr>\n",
       "      <th>25%</th>\n",
       "      <td>6.000000</td>\n",
       "      <td>-73.992059</td>\n",
       "      <td>40.734547</td>\n",
       "      <td>-73.991112</td>\n",
       "      <td>40.735230</td>\n",
       "      <td>1.000000</td>\n",
       "    </tr>\n",
       "    <tr>\n",
       "      <th>50%</th>\n",
       "      <td>8.500000</td>\n",
       "      <td>-73.981758</td>\n",
       "      <td>40.752693</td>\n",
       "      <td>-73.980083</td>\n",
       "      <td>40.753738</td>\n",
       "      <td>1.000000</td>\n",
       "    </tr>\n",
       "    <tr>\n",
       "      <th>75%</th>\n",
       "      <td>12.500000</td>\n",
       "      <td>-73.966925</td>\n",
       "      <td>40.767694</td>\n",
       "      <td>-73.963504</td>\n",
       "      <td>40.768186</td>\n",
       "      <td>2.000000</td>\n",
       "    </tr>\n",
       "    <tr>\n",
       "      <th>max</th>\n",
       "      <td>180.000000</td>\n",
       "      <td>40.766125</td>\n",
       "      <td>401.083332</td>\n",
       "      <td>40.802437</td>\n",
       "      <td>41.366138</td>\n",
       "      <td>6.000000</td>\n",
       "    </tr>\n",
       "  </tbody>\n",
       "</table>\n",
       "</div>"
      ],
      "text/plain": [
       "        fare_amount  pickup_longitude  pickup_latitude  dropoff_longitude  \\\n",
       "count  10000.000000      10000.000000     10000.000000       10000.000000   \n",
       "mean      11.235464        -72.466660        39.920448         -72.474094   \n",
       "std        9.584258         10.609729         7.318932          10.579732   \n",
       "min       -2.900000        -74.438233       -74.006893         -74.429332   \n",
       "25%        6.000000        -73.992059        40.734547         -73.991112   \n",
       "50%        8.500000        -73.981758        40.752693         -73.980083   \n",
       "75%       12.500000        -73.966925        40.767694         -73.963504   \n",
       "max      180.000000         40.766125       401.083332          40.802437   \n",
       "\n",
       "       dropoff_latitude  passenger_count  \n",
       "count      10000.000000     10000.000000  \n",
       "mean          39.893281         1.644700  \n",
       "std            6.339919         1.271229  \n",
       "min          -73.994392         0.000000  \n",
       "25%           40.735230         1.000000  \n",
       "50%           40.753738         1.000000  \n",
       "75%           40.768186         2.000000  \n",
       "max           41.366138         6.000000  "
      ]
     },
     "execution_count": 6,
     "metadata": {},
     "output_type": "execute_result"
    }
   ],
   "source": [
    "train.describe()"
   ]
  },
  {
   "cell_type": "code",
   "execution_count": 7,
   "id": "846559dc",
   "metadata": {
    "execution": {
     "iopub.execute_input": "2021-12-14T10:53:07.909794Z",
     "iopub.status.busy": "2021-12-14T10:53:07.909120Z",
     "iopub.status.idle": "2021-12-14T10:53:07.919296Z",
     "shell.execute_reply": "2021-12-14T10:53:07.919831Z",
     "shell.execute_reply.started": "2021-12-14T10:51:31.881851Z"
    },
    "papermill": {
     "duration": 0.055528,
     "end_time": "2021-12-14T10:53:07.920028",
     "exception": false,
     "start_time": "2021-12-14T10:53:07.864500",
     "status": "completed"
    },
    "tags": []
   },
   "outputs": [
    {
     "data": {
      "text/plain": [
       "key                  0\n",
       "fare_amount          0\n",
       "pickup_datetime      0\n",
       "pickup_longitude     0\n",
       "pickup_latitude      0\n",
       "dropoff_longitude    0\n",
       "dropoff_latitude     0\n",
       "passenger_count      0\n",
       "dtype: int64"
      ]
     },
     "execution_count": 7,
     "metadata": {},
     "output_type": "execute_result"
    }
   ],
   "source": [
    "train.isnull().sum().sort_values(ascending=False)"
   ]
  },
  {
   "cell_type": "code",
   "execution_count": 8,
   "id": "ba0e97e9",
   "metadata": {
    "execution": {
     "iopub.execute_input": "2021-12-14T10:53:08.008104Z",
     "iopub.status.busy": "2021-12-14T10:53:08.007467Z",
     "iopub.status.idle": "2021-12-14T10:53:08.018801Z",
     "shell.execute_reply": "2021-12-14T10:53:08.018237Z",
     "shell.execute_reply.started": "2021-12-14T10:51:31.893406Z"
    },
    "papermill": {
     "duration": 0.057034,
     "end_time": "2021-12-14T10:53:08.018965",
     "exception": false,
     "start_time": "2021-12-14T10:53:07.961931",
     "status": "completed"
    },
    "tags": []
   },
   "outputs": [
    {
     "data": {
      "text/plain": [
       "key                  0\n",
       "pickup_datetime      0\n",
       "pickup_longitude     0\n",
       "pickup_latitude      0\n",
       "dropoff_longitude    0\n",
       "dropoff_latitude     0\n",
       "passenger_count      0\n",
       "dtype: int64"
      ]
     },
     "execution_count": 8,
     "metadata": {},
     "output_type": "execute_result"
    }
   ],
   "source": [
    "test.isnull().sum().sort_values(ascending=False)"
   ]
  },
  {
   "cell_type": "code",
   "execution_count": 9,
   "id": "f9cbc787",
   "metadata": {
    "execution": {
     "iopub.execute_input": "2021-12-14T10:53:08.113877Z",
     "iopub.status.busy": "2021-12-14T10:53:08.113089Z",
     "iopub.status.idle": "2021-12-14T10:53:08.116721Z",
     "shell.execute_reply": "2021-12-14T10:53:08.117204Z",
     "shell.execute_reply.started": "2021-12-14T10:51:31.911737Z"
    },
    "papermill": {
     "duration": 0.054824,
     "end_time": "2021-12-14T10:53:08.117413",
     "exception": false,
     "start_time": "2021-12-14T10:53:08.062589",
     "status": "completed"
    },
    "tags": []
   },
   "outputs": [],
   "source": [
    "train = train.drop(train[train['dropoff_latitude'].isnull()].index,axis=0) #删除10条含缺失值的数据"
   ]
  },
  {
   "cell_type": "code",
   "execution_count": 10,
   "id": "9fd889be",
   "metadata": {
    "execution": {
     "iopub.execute_input": "2021-12-14T10:53:08.208745Z",
     "iopub.status.busy": "2021-12-14T10:53:08.208017Z",
     "iopub.status.idle": "2021-12-14T10:53:08.218787Z",
     "shell.execute_reply": "2021-12-14T10:53:08.219412Z",
     "shell.execute_reply.started": "2021-12-14T10:51:31.921771Z"
    },
    "papermill": {
     "duration": 0.060388,
     "end_time": "2021-12-14T10:53:08.219643",
     "exception": false,
     "start_time": "2021-12-14T10:53:08.159255",
     "status": "completed"
    },
    "tags": []
   },
   "outputs": [
    {
     "data": {
      "text/plain": [
       "count    9998.000000\n",
       "mean       11.238252\n",
       "std         9.583189\n",
       "min         0.010000\n",
       "25%         6.000000\n",
       "50%         8.500000\n",
       "75%        12.500000\n",
       "max       180.000000\n",
       "Name: fare_amount, dtype: float64"
      ]
     },
     "execution_count": 10,
     "metadata": {},
     "output_type": "execute_result"
    }
   ],
   "source": [
    "train = train.drop(train[train['fare_amount']<0].index,axis=0)\n",
    "train['fare_amount'].describe()"
   ]
  },
  {
   "cell_type": "code",
   "execution_count": 11,
   "id": "d0a37e2c",
   "metadata": {
    "execution": {
     "iopub.execute_input": "2021-12-14T10:53:08.308945Z",
     "iopub.status.busy": "2021-12-14T10:53:08.308307Z",
     "iopub.status.idle": "2021-12-14T10:53:08.319577Z",
     "shell.execute_reply": "2021-12-14T10:53:08.320401Z",
     "shell.execute_reply.started": "2021-12-14T10:51:31.937179Z"
    },
    "papermill": {
     "duration": 0.05706,
     "end_time": "2021-12-14T10:53:08.320656",
     "exception": false,
     "start_time": "2021-12-14T10:53:08.263596",
     "status": "completed"
    },
    "tags": []
   },
   "outputs": [
    {
     "data": {
      "text/html": [
       "<div>\n",
       "<style scoped>\n",
       "    .dataframe tbody tr th:only-of-type {\n",
       "        vertical-align: middle;\n",
       "    }\n",
       "\n",
       "    .dataframe tbody tr th {\n",
       "        vertical-align: top;\n",
       "    }\n",
       "\n",
       "    .dataframe thead th {\n",
       "        text-align: right;\n",
       "    }\n",
       "</style>\n",
       "<table border=\"1\" class=\"dataframe\">\n",
       "  <thead>\n",
       "    <tr style=\"text-align: right;\">\n",
       "      <th></th>\n",
       "      <th>key</th>\n",
       "      <th>fare_amount</th>\n",
       "      <th>pickup_datetime</th>\n",
       "      <th>pickup_longitude</th>\n",
       "      <th>pickup_latitude</th>\n",
       "      <th>dropoff_longitude</th>\n",
       "      <th>dropoff_latitude</th>\n",
       "      <th>passenger_count</th>\n",
       "    </tr>\n",
       "  </thead>\n",
       "  <tbody>\n",
       "  </tbody>\n",
       "</table>\n",
       "</div>"
      ],
      "text/plain": [
       "Empty DataFrame\n",
       "Columns: [key, fare_amount, pickup_datetime, pickup_longitude, pickup_latitude, dropoff_longitude, dropoff_latitude, passenger_count]\n",
       "Index: []"
      ]
     },
     "execution_count": 11,
     "metadata": {},
     "output_type": "execute_result"
    }
   ],
   "source": [
    "train[train['passenger_count']>6]"
   ]
  },
  {
   "cell_type": "code",
   "execution_count": 12,
   "id": "9bf5f3eb",
   "metadata": {
    "execution": {
     "iopub.execute_input": "2021-12-14T10:53:08.410075Z",
     "iopub.status.busy": "2021-12-14T10:53:08.409421Z",
     "iopub.status.idle": "2021-12-14T10:53:08.421699Z",
     "shell.execute_reply": "2021-12-14T10:53:08.422282Z",
     "shell.execute_reply.started": "2021-12-14T10:51:31.948839Z"
    },
    "papermill": {
     "duration": 0.058458,
     "end_time": "2021-12-14T10:53:08.422446",
     "exception": false,
     "start_time": "2021-12-14T10:53:08.363988",
     "status": "completed"
    },
    "tags": []
   },
   "outputs": [
    {
     "data": {
      "text/plain": [
       "count    9998.000000\n",
       "mean        1.644829\n",
       "std         1.271324\n",
       "min         0.000000\n",
       "25%         1.000000\n",
       "50%         1.000000\n",
       "75%         2.000000\n",
       "max         6.000000\n",
       "Name: passenger_count, dtype: float64"
      ]
     },
     "execution_count": 12,
     "metadata": {},
     "output_type": "execute_result"
    }
   ],
   "source": [
    "train = train.drop(train[train['passenger_count']>6].index,axis=0)\n",
    "train['passenger_count'].describe()"
   ]
  },
  {
   "cell_type": "code",
   "execution_count": 13,
   "id": "f0d84f2b",
   "metadata": {
    "execution": {
     "iopub.execute_input": "2021-12-14T10:53:08.513365Z",
     "iopub.status.busy": "2021-12-14T10:53:08.512728Z",
     "iopub.status.idle": "2021-12-14T10:53:08.522229Z",
     "shell.execute_reply": "2021-12-14T10:53:08.522844Z",
     "shell.execute_reply.started": "2021-12-14T10:51:32.082295Z"
    },
    "papermill": {
     "duration": 0.056902,
     "end_time": "2021-12-14T10:53:08.523021",
     "exception": false,
     "start_time": "2021-12-14T10:53:08.466119",
     "status": "completed"
    },
    "tags": []
   },
   "outputs": [
    {
     "data": {
      "text/plain": [
       "count    9998.000000\n",
       "mean       39.920296\n",
       "std         7.319656\n",
       "min       -74.006893\n",
       "25%        40.734564\n",
       "50%        40.752695\n",
       "75%        40.767696\n",
       "max       401.083332\n",
       "Name: pickup_latitude, dtype: float64"
      ]
     },
     "execution_count": 13,
     "metadata": {},
     "output_type": "execute_result"
    }
   ],
   "source": [
    "train['pickup_latitude'].describe()"
   ]
  },
  {
   "cell_type": "code",
   "execution_count": 14,
   "id": "a0c69468",
   "metadata": {
    "execution": {
     "iopub.execute_input": "2021-12-14T10:53:08.615697Z",
     "iopub.status.busy": "2021-12-14T10:53:08.615027Z",
     "iopub.status.idle": "2021-12-14T10:53:08.625029Z",
     "shell.execute_reply": "2021-12-14T10:53:08.625568Z",
     "shell.execute_reply.started": "2021-12-14T10:51:32.096199Z"
    },
    "papermill": {
     "duration": 0.057112,
     "end_time": "2021-12-14T10:53:08.625760",
     "exception": false,
     "start_time": "2021-12-14T10:53:08.568648",
     "status": "completed"
    },
    "tags": []
   },
   "outputs": [
    {
     "data": {
      "text/plain": [
       "count    9998.000000\n",
       "mean      -72.466375\n",
       "std        10.610771\n",
       "min       -74.438233\n",
       "25%       -73.992056\n",
       "50%       -73.981758\n",
       "75%       -73.966934\n",
       "max        40.766125\n",
       "Name: pickup_longitude, dtype: float64"
      ]
     },
     "execution_count": 14,
     "metadata": {},
     "output_type": "execute_result"
    }
   ],
   "source": [
    "train['pickup_longitude'].describe()"
   ]
  },
  {
   "cell_type": "code",
   "execution_count": 15,
   "id": "bc809614",
   "metadata": {
    "execution": {
     "iopub.execute_input": "2021-12-14T10:53:08.720141Z",
     "iopub.status.busy": "2021-12-14T10:53:08.719408Z",
     "iopub.status.idle": "2021-12-14T10:53:08.744206Z",
     "shell.execute_reply": "2021-12-14T10:53:08.744856Z",
     "shell.execute_reply.started": "2021-12-14T10:51:32.107083Z"
    },
    "papermill": {
     "duration": 0.074714,
     "end_time": "2021-12-14T10:53:08.745047",
     "exception": false,
     "start_time": "2021-12-14T10:53:08.670333",
     "status": "completed"
    },
    "tags": []
   },
   "outputs": [
    {
     "data": {
      "text/plain": [
       "(9997, 8)"
      ]
     },
     "execution_count": 15,
     "metadata": {},
     "output_type": "execute_result"
    }
   ],
   "source": [
    "train = train.drop(((train[train['pickup_latitude']<-90])|(train[train['pickup_latitude']>90]))\n",
    "         .index,axis=0)\n",
    "train = train.drop(((train[train['pickup_longitude']<-180])|(train[train['pickup_longitude']>180]))\n",
    "         .index,axis=0)\n",
    "train = train.drop(((train[train['dropoff_latitude']<-90])|(train[train['dropoff_latitude']>90]))\n",
    "         .index,axis=0)\n",
    "train = train.drop(((train[train['dropoff_longitude']<-180])|(train[train['dropoff_longitude']>180])\n",
    "         ).index,axis=0)\n",
    "train.shape"
   ]
  },
  {
   "cell_type": "code",
   "execution_count": 16,
   "id": "7bfd93b7",
   "metadata": {
    "execution": {
     "iopub.execute_input": "2021-12-14T10:53:08.839987Z",
     "iopub.status.busy": "2021-12-14T10:53:08.839272Z",
     "iopub.status.idle": "2021-12-14T10:53:08.845714Z",
     "shell.execute_reply": "2021-12-14T10:53:08.846295Z",
     "shell.execute_reply.started": "2021-12-14T10:51:32.132927Z"
    },
    "papermill": {
     "duration": 0.054188,
     "end_time": "2021-12-14T10:53:08.846463",
     "exception": false,
     "start_time": "2021-12-14T10:53:08.792275",
     "status": "completed"
    },
    "tags": []
   },
   "outputs": [
    {
     "data": {
      "text/plain": [
       "key                   object\n",
       "fare_amount          float64\n",
       "pickup_datetime       object\n",
       "pickup_longitude     float64\n",
       "pickup_latitude      float64\n",
       "dropoff_longitude    float64\n",
       "dropoff_latitude     float64\n",
       "passenger_count        int64\n",
       "dtype: object"
      ]
     },
     "execution_count": 16,
     "metadata": {},
     "output_type": "execute_result"
    }
   ],
   "source": [
    "train.dtypes"
   ]
  },
  {
   "cell_type": "code",
   "execution_count": 17,
   "id": "e9354c54",
   "metadata": {
    "execution": {
     "iopub.execute_input": "2021-12-14T10:53:08.947069Z",
     "iopub.status.busy": "2021-12-14T10:53:08.946248Z",
     "iopub.status.idle": "2021-12-14T10:53:10.665817Z",
     "shell.execute_reply": "2021-12-14T10:53:10.665132Z",
     "shell.execute_reply.started": "2021-12-14T10:51:32.143670Z"
    },
    "papermill": {
     "duration": 1.775064,
     "end_time": "2021-12-14T10:53:10.665972",
     "exception": false,
     "start_time": "2021-12-14T10:53:08.890908",
     "status": "completed"
    },
    "tags": []
   },
   "outputs": [],
   "source": [
    "train['key']=pd.to_datetime(train['key'])\n",
    "train['pickup_datetime']=pd.to_datetime(train['pickup_datetime'])\n",
    "test['key']=pd.to_datetime(test['key'])\n",
    "test['pickup_datetime']=pd.to_datetime(test['pickup_datetime'])"
   ]
  },
  {
   "cell_type": "code",
   "execution_count": 18,
   "id": "127dde1b",
   "metadata": {
    "execution": {
     "iopub.execute_input": "2021-12-14T10:53:10.764559Z",
     "iopub.status.busy": "2021-12-14T10:53:10.763879Z",
     "iopub.status.idle": "2021-12-14T10:53:10.768436Z",
     "shell.execute_reply": "2021-12-14T10:53:10.767809Z",
     "shell.execute_reply.started": "2021-12-14T10:51:33.863806Z"
    },
    "papermill": {
     "duration": 0.057766,
     "end_time": "2021-12-14T10:53:10.768593",
     "exception": false,
     "start_time": "2021-12-14T10:53:10.710827",
     "status": "completed"
    },
    "tags": []
   },
   "outputs": [
    {
     "data": {
      "text/plain": [
       "key                       datetime64[ns]\n",
       "fare_amount                      float64\n",
       "pickup_datetime      datetime64[ns, UTC]\n",
       "pickup_longitude                 float64\n",
       "pickup_latitude                  float64\n",
       "dropoff_longitude                float64\n",
       "dropoff_latitude                 float64\n",
       "passenger_count                    int64\n",
       "dtype: object"
      ]
     },
     "execution_count": 18,
     "metadata": {},
     "output_type": "execute_result"
    }
   ],
   "source": [
    "train.dtypes"
   ]
  },
  {
   "cell_type": "code",
   "execution_count": 19,
   "id": "8ab40332",
   "metadata": {
    "execution": {
     "iopub.execute_input": "2021-12-14T10:53:10.865596Z",
     "iopub.status.busy": "2021-12-14T10:53:10.864357Z",
     "iopub.status.idle": "2021-12-14T10:53:10.873414Z",
     "shell.execute_reply": "2021-12-14T10:53:10.872761Z",
     "shell.execute_reply.started": "2021-12-14T10:51:33.872815Z"
    },
    "papermill": {
     "duration": 0.058089,
     "end_time": "2021-12-14T10:53:10.873565",
     "exception": false,
     "start_time": "2021-12-14T10:53:10.815476",
     "status": "completed"
    },
    "tags": []
   },
   "outputs": [
    {
     "data": {
      "text/plain": [
       "key                       datetime64[ns]\n",
       "pickup_datetime      datetime64[ns, UTC]\n",
       "pickup_longitude                 float64\n",
       "pickup_latitude                  float64\n",
       "dropoff_longitude                float64\n",
       "dropoff_latitude                 float64\n",
       "passenger_count                    int64\n",
       "dtype: object"
      ]
     },
     "execution_count": 19,
     "metadata": {},
     "output_type": "execute_result"
    }
   ],
   "source": [
    "test.dtypes"
   ]
  },
  {
   "cell_type": "code",
   "execution_count": 20,
   "id": "9d208889",
   "metadata": {
    "execution": {
     "iopub.execute_input": "2021-12-14T10:53:10.974751Z",
     "iopub.status.busy": "2021-12-14T10:53:10.974042Z",
     "iopub.status.idle": "2021-12-14T10:53:10.976876Z",
     "shell.execute_reply": "2021-12-14T10:53:10.977439Z",
     "shell.execute_reply.started": "2021-12-14T10:51:33.886075Z"
    },
    "papermill": {
     "duration": 0.058387,
     "end_time": "2021-12-14T10:53:10.977673",
     "exception": false,
     "start_time": "2021-12-14T10:53:10.919286",
     "status": "completed"
    },
    "tags": []
   },
   "outputs": [],
   "source": [
    "def haversine_distance(lat1, long1, lat2, long2):\n",
    "    data = [train, test]\n",
    "    for i in data:\n",
    "        R = 6371  #radius of earth in kilometers\n",
    "        phi1 = np.radians(i[lat1])\n",
    "        phi2 = np.radians(i[lat2])\n",
    "    \n",
    "        delta_phi = np.radians(i[lat2]-i[lat1])\n",
    "        delta_lambda = np.radians(i[long2]-i[long1])\n",
    "    \n",
    "        #a = sin²((φB - φA)/2) + cos φA . cos φB . sin²((λB - λA)/2)\n",
    "        a = np.sin(delta_phi / 2.0) ** 2 + np.cos(phi1) * np.cos(phi2) * np.sin(delta_lambda / 2.0) ** 2\n",
    "    \n",
    "        #c = 2 * atan2( √a, √(1−a) )\n",
    "        c = 2 * np.arctan2(np.sqrt(a), np.sqrt(1-a))\n",
    "    \n",
    "        #d = R*c\n",
    "        d = (R * c) #in kilometers\n",
    "        i['H_Distance'] = d\n",
    "    return d"
   ]
  },
  {
   "cell_type": "code",
   "execution_count": 21,
   "id": "ae577999",
   "metadata": {
    "execution": {
     "iopub.execute_input": "2021-12-14T10:53:11.078076Z",
     "iopub.status.busy": "2021-12-14T10:53:11.077378Z",
     "iopub.status.idle": "2021-12-14T10:53:11.094161Z",
     "shell.execute_reply": "2021-12-14T10:53:11.093466Z",
     "shell.execute_reply.started": "2021-12-14T10:51:33.896615Z"
    },
    "papermill": {
     "duration": 0.070264,
     "end_time": "2021-12-14T10:53:11.094334",
     "exception": false,
     "start_time": "2021-12-14T10:53:11.024070",
     "status": "completed"
    },
    "tags": []
   },
   "outputs": [
    {
     "data": {
      "text/plain": [
       "0        2.323260\n",
       "1        2.425353\n",
       "2        0.618628\n",
       "3        1.961033\n",
       "4        5.387301\n",
       "          ...    \n",
       "9909     2.124874\n",
       "9910     3.270969\n",
       "9911    19.183941\n",
       "9912     8.343486\n",
       "9913     1.180825\n",
       "Length: 9914, dtype: float64"
      ]
     },
     "execution_count": 21,
     "metadata": {},
     "output_type": "execute_result"
    }
   ],
   "source": [
    "haversine_distance('pickup_latitude', 'pickup_longitude', 'dropoff_latitude', 'dropoff_longitude')"
   ]
  },
  {
   "cell_type": "code",
   "execution_count": 22,
   "id": "6df92cf2",
   "metadata": {
    "execution": {
     "iopub.execute_input": "2021-12-14T10:53:11.205484Z",
     "iopub.status.busy": "2021-12-14T10:53:11.204641Z",
     "iopub.status.idle": "2021-12-14T10:53:11.208713Z",
     "shell.execute_reply": "2021-12-14T10:53:11.208086Z",
     "shell.execute_reply.started": "2021-12-14T10:51:33.923299Z"
    },
    "papermill": {
     "duration": 0.067836,
     "end_time": "2021-12-14T10:53:11.208869",
     "exception": false,
     "start_time": "2021-12-14T10:53:11.141033",
     "status": "completed"
    },
    "tags": []
   },
   "outputs": [
    {
     "data": {
      "text/html": [
       "<div>\n",
       "<style scoped>\n",
       "    .dataframe tbody tr th:only-of-type {\n",
       "        vertical-align: middle;\n",
       "    }\n",
       "\n",
       "    .dataframe tbody tr th {\n",
       "        vertical-align: top;\n",
       "    }\n",
       "\n",
       "    .dataframe thead th {\n",
       "        text-align: right;\n",
       "    }\n",
       "</style>\n",
       "<table border=\"1\" class=\"dataframe\">\n",
       "  <thead>\n",
       "    <tr style=\"text-align: right;\">\n",
       "      <th></th>\n",
       "      <th>key</th>\n",
       "      <th>fare_amount</th>\n",
       "      <th>pickup_datetime</th>\n",
       "      <th>pickup_longitude</th>\n",
       "      <th>pickup_latitude</th>\n",
       "      <th>dropoff_longitude</th>\n",
       "      <th>dropoff_latitude</th>\n",
       "      <th>passenger_count</th>\n",
       "      <th>H_Distance</th>\n",
       "    </tr>\n",
       "  </thead>\n",
       "  <tbody>\n",
       "    <tr>\n",
       "      <th>0</th>\n",
       "      <td>2009-06-15 17:26:21.000000100</td>\n",
       "      <td>4.5</td>\n",
       "      <td>2009-06-15 17:26:21+00:00</td>\n",
       "      <td>-73.844311</td>\n",
       "      <td>40.721319</td>\n",
       "      <td>-73.841610</td>\n",
       "      <td>40.712278</td>\n",
       "      <td>1</td>\n",
       "      <td>1.030764</td>\n",
       "    </tr>\n",
       "    <tr>\n",
       "      <th>1</th>\n",
       "      <td>2010-01-05 16:52:16.000000200</td>\n",
       "      <td>16.9</td>\n",
       "      <td>2010-01-05 16:52:16+00:00</td>\n",
       "      <td>-74.016048</td>\n",
       "      <td>40.711303</td>\n",
       "      <td>-73.979268</td>\n",
       "      <td>40.782004</td>\n",
       "      <td>1</td>\n",
       "      <td>8.450134</td>\n",
       "    </tr>\n",
       "    <tr>\n",
       "      <th>2</th>\n",
       "      <td>2011-08-18 00:35:00.000000490</td>\n",
       "      <td>5.7</td>\n",
       "      <td>2011-08-18 00:35:00+00:00</td>\n",
       "      <td>-73.982738</td>\n",
       "      <td>40.761270</td>\n",
       "      <td>-73.991242</td>\n",
       "      <td>40.750562</td>\n",
       "      <td>2</td>\n",
       "      <td>1.389525</td>\n",
       "    </tr>\n",
       "    <tr>\n",
       "      <th>3</th>\n",
       "      <td>2012-04-21 04:30:42.000000100</td>\n",
       "      <td>7.7</td>\n",
       "      <td>2012-04-21 04:30:42+00:00</td>\n",
       "      <td>-73.987130</td>\n",
       "      <td>40.733143</td>\n",
       "      <td>-73.991567</td>\n",
       "      <td>40.758092</td>\n",
       "      <td>1</td>\n",
       "      <td>2.799270</td>\n",
       "    </tr>\n",
       "    <tr>\n",
       "      <th>4</th>\n",
       "      <td>2010-03-09 07:51:00.000000135</td>\n",
       "      <td>5.3</td>\n",
       "      <td>2010-03-09 07:51:00+00:00</td>\n",
       "      <td>-73.968095</td>\n",
       "      <td>40.768008</td>\n",
       "      <td>-73.956655</td>\n",
       "      <td>40.783762</td>\n",
       "      <td>1</td>\n",
       "      <td>1.999157</td>\n",
       "    </tr>\n",
       "    <tr>\n",
       "      <th>5</th>\n",
       "      <td>2011-01-06 09:50:45.000000200</td>\n",
       "      <td>12.1</td>\n",
       "      <td>2011-01-06 09:50:45+00:00</td>\n",
       "      <td>-74.000964</td>\n",
       "      <td>40.731630</td>\n",
       "      <td>-73.972892</td>\n",
       "      <td>40.758233</td>\n",
       "      <td>1</td>\n",
       "      <td>3.787239</td>\n",
       "    </tr>\n",
       "    <tr>\n",
       "      <th>6</th>\n",
       "      <td>2012-11-20 20:35:00.000000100</td>\n",
       "      <td>7.5</td>\n",
       "      <td>2012-11-20 20:35:00+00:00</td>\n",
       "      <td>-73.980002</td>\n",
       "      <td>40.751662</td>\n",
       "      <td>-73.973802</td>\n",
       "      <td>40.764842</td>\n",
       "      <td>1</td>\n",
       "      <td>1.555807</td>\n",
       "    </tr>\n",
       "    <tr>\n",
       "      <th>7</th>\n",
       "      <td>2012-01-04 17:22:00.000000810</td>\n",
       "      <td>16.5</td>\n",
       "      <td>2012-01-04 17:22:00+00:00</td>\n",
       "      <td>-73.951300</td>\n",
       "      <td>40.774138</td>\n",
       "      <td>-73.990095</td>\n",
       "      <td>40.751048</td>\n",
       "      <td>1</td>\n",
       "      <td>4.155444</td>\n",
       "    </tr>\n",
       "    <tr>\n",
       "      <th>8</th>\n",
       "      <td>2012-12-03 13:10:00.000000125</td>\n",
       "      <td>9.0</td>\n",
       "      <td>2012-12-03 13:10:00+00:00</td>\n",
       "      <td>-74.006462</td>\n",
       "      <td>40.726713</td>\n",
       "      <td>-73.993078</td>\n",
       "      <td>40.731628</td>\n",
       "      <td>1</td>\n",
       "      <td>1.253232</td>\n",
       "    </tr>\n",
       "    <tr>\n",
       "      <th>9</th>\n",
       "      <td>2009-09-02 01:11:00.000000830</td>\n",
       "      <td>8.9</td>\n",
       "      <td>2009-09-02 01:11:00+00:00</td>\n",
       "      <td>-73.980658</td>\n",
       "      <td>40.733873</td>\n",
       "      <td>-73.991540</td>\n",
       "      <td>40.758138</td>\n",
       "      <td>2</td>\n",
       "      <td>2.849627</td>\n",
       "    </tr>\n",
       "  </tbody>\n",
       "</table>\n",
       "</div>"
      ],
      "text/plain": [
       "                            key  fare_amount           pickup_datetime  \\\n",
       "0 2009-06-15 17:26:21.000000100          4.5 2009-06-15 17:26:21+00:00   \n",
       "1 2010-01-05 16:52:16.000000200         16.9 2010-01-05 16:52:16+00:00   \n",
       "2 2011-08-18 00:35:00.000000490          5.7 2011-08-18 00:35:00+00:00   \n",
       "3 2012-04-21 04:30:42.000000100          7.7 2012-04-21 04:30:42+00:00   \n",
       "4 2010-03-09 07:51:00.000000135          5.3 2010-03-09 07:51:00+00:00   \n",
       "5 2011-01-06 09:50:45.000000200         12.1 2011-01-06 09:50:45+00:00   \n",
       "6 2012-11-20 20:35:00.000000100          7.5 2012-11-20 20:35:00+00:00   \n",
       "7 2012-01-04 17:22:00.000000810         16.5 2012-01-04 17:22:00+00:00   \n",
       "8 2012-12-03 13:10:00.000000125          9.0 2012-12-03 13:10:00+00:00   \n",
       "9 2009-09-02 01:11:00.000000830          8.9 2009-09-02 01:11:00+00:00   \n",
       "\n",
       "   pickup_longitude  pickup_latitude  dropoff_longitude  dropoff_latitude  \\\n",
       "0        -73.844311        40.721319         -73.841610         40.712278   \n",
       "1        -74.016048        40.711303         -73.979268         40.782004   \n",
       "2        -73.982738        40.761270         -73.991242         40.750562   \n",
       "3        -73.987130        40.733143         -73.991567         40.758092   \n",
       "4        -73.968095        40.768008         -73.956655         40.783762   \n",
       "5        -74.000964        40.731630         -73.972892         40.758233   \n",
       "6        -73.980002        40.751662         -73.973802         40.764842   \n",
       "7        -73.951300        40.774138         -73.990095         40.751048   \n",
       "8        -74.006462        40.726713         -73.993078         40.731628   \n",
       "9        -73.980658        40.733873         -73.991540         40.758138   \n",
       "\n",
       "   passenger_count  H_Distance  \n",
       "0                1    1.030764  \n",
       "1                1    8.450134  \n",
       "2                2    1.389525  \n",
       "3                1    2.799270  \n",
       "4                1    1.999157  \n",
       "5                1    3.787239  \n",
       "6                1    1.555807  \n",
       "7                1    4.155444  \n",
       "8                1    1.253232  \n",
       "9                2    2.849627  "
      ]
     },
     "execution_count": 22,
     "metadata": {},
     "output_type": "execute_result"
    }
   ],
   "source": [
    "train.head(10)"
   ]
  },
  {
   "cell_type": "code",
   "execution_count": 23,
   "id": "883f77eb",
   "metadata": {
    "execution": {
     "iopub.execute_input": "2021-12-14T10:53:11.320916Z",
     "iopub.status.busy": "2021-12-14T10:53:11.320200Z",
     "iopub.status.idle": "2021-12-14T10:53:11.324211Z",
     "shell.execute_reply": "2021-12-14T10:53:11.323557Z",
     "shell.execute_reply.started": "2021-12-14T10:51:33.942182Z"
    },
    "papermill": {
     "duration": 0.068407,
     "end_time": "2021-12-14T10:53:11.324362",
     "exception": false,
     "start_time": "2021-12-14T10:53:11.255955",
     "status": "completed"
    },
    "tags": []
   },
   "outputs": [
    {
     "data": {
      "text/html": [
       "<div>\n",
       "<style scoped>\n",
       "    .dataframe tbody tr th:only-of-type {\n",
       "        vertical-align: middle;\n",
       "    }\n",
       "\n",
       "    .dataframe tbody tr th {\n",
       "        vertical-align: top;\n",
       "    }\n",
       "\n",
       "    .dataframe thead th {\n",
       "        text-align: right;\n",
       "    }\n",
       "</style>\n",
       "<table border=\"1\" class=\"dataframe\">\n",
       "  <thead>\n",
       "    <tr style=\"text-align: right;\">\n",
       "      <th></th>\n",
       "      <th>key</th>\n",
       "      <th>pickup_datetime</th>\n",
       "      <th>pickup_longitude</th>\n",
       "      <th>pickup_latitude</th>\n",
       "      <th>dropoff_longitude</th>\n",
       "      <th>dropoff_latitude</th>\n",
       "      <th>passenger_count</th>\n",
       "      <th>H_Distance</th>\n",
       "    </tr>\n",
       "  </thead>\n",
       "  <tbody>\n",
       "    <tr>\n",
       "      <th>0</th>\n",
       "      <td>2015-01-27 13:08:24.000000200</td>\n",
       "      <td>2015-01-27 13:08:24+00:00</td>\n",
       "      <td>-73.973320</td>\n",
       "      <td>40.763805</td>\n",
       "      <td>-73.981430</td>\n",
       "      <td>40.743835</td>\n",
       "      <td>1</td>\n",
       "      <td>2.323260</td>\n",
       "    </tr>\n",
       "    <tr>\n",
       "      <th>1</th>\n",
       "      <td>2015-01-27 13:08:24.000000300</td>\n",
       "      <td>2015-01-27 13:08:24+00:00</td>\n",
       "      <td>-73.986862</td>\n",
       "      <td>40.719383</td>\n",
       "      <td>-73.998886</td>\n",
       "      <td>40.739201</td>\n",
       "      <td>1</td>\n",
       "      <td>2.425353</td>\n",
       "    </tr>\n",
       "    <tr>\n",
       "      <th>2</th>\n",
       "      <td>2011-10-08 11:53:44.000000200</td>\n",
       "      <td>2011-10-08 11:53:44+00:00</td>\n",
       "      <td>-73.982524</td>\n",
       "      <td>40.751260</td>\n",
       "      <td>-73.979654</td>\n",
       "      <td>40.746139</td>\n",
       "      <td>1</td>\n",
       "      <td>0.618628</td>\n",
       "    </tr>\n",
       "    <tr>\n",
       "      <th>3</th>\n",
       "      <td>2012-12-01 21:12:12.000000200</td>\n",
       "      <td>2012-12-01 21:12:12+00:00</td>\n",
       "      <td>-73.981160</td>\n",
       "      <td>40.767807</td>\n",
       "      <td>-73.990448</td>\n",
       "      <td>40.751635</td>\n",
       "      <td>1</td>\n",
       "      <td>1.961033</td>\n",
       "    </tr>\n",
       "    <tr>\n",
       "      <th>4</th>\n",
       "      <td>2012-12-01 21:12:12.000000300</td>\n",
       "      <td>2012-12-01 21:12:12+00:00</td>\n",
       "      <td>-73.966046</td>\n",
       "      <td>40.789775</td>\n",
       "      <td>-73.988565</td>\n",
       "      <td>40.744427</td>\n",
       "      <td>1</td>\n",
       "      <td>5.387301</td>\n",
       "    </tr>\n",
       "    <tr>\n",
       "      <th>5</th>\n",
       "      <td>2012-12-01 21:12:12.000000500</td>\n",
       "      <td>2012-12-01 21:12:12+00:00</td>\n",
       "      <td>-73.960983</td>\n",
       "      <td>40.765547</td>\n",
       "      <td>-73.979177</td>\n",
       "      <td>40.740053</td>\n",
       "      <td>1</td>\n",
       "      <td>3.222549</td>\n",
       "    </tr>\n",
       "    <tr>\n",
       "      <th>6</th>\n",
       "      <td>2011-10-06 12:10:20.000000100</td>\n",
       "      <td>2011-10-06 12:10:20+00:00</td>\n",
       "      <td>-73.949013</td>\n",
       "      <td>40.773204</td>\n",
       "      <td>-73.959622</td>\n",
       "      <td>40.770893</td>\n",
       "      <td>1</td>\n",
       "      <td>0.929601</td>\n",
       "    </tr>\n",
       "    <tr>\n",
       "      <th>7</th>\n",
       "      <td>2011-10-06 12:10:20.000000300</td>\n",
       "      <td>2011-10-06 12:10:20+00:00</td>\n",
       "      <td>-73.777282</td>\n",
       "      <td>40.646636</td>\n",
       "      <td>-73.985083</td>\n",
       "      <td>40.759368</td>\n",
       "      <td>1</td>\n",
       "      <td>21.540102</td>\n",
       "    </tr>\n",
       "    <tr>\n",
       "      <th>8</th>\n",
       "      <td>2011-10-06 12:10:20.000000200</td>\n",
       "      <td>2011-10-06 12:10:20+00:00</td>\n",
       "      <td>-74.014099</td>\n",
       "      <td>40.709638</td>\n",
       "      <td>-73.995106</td>\n",
       "      <td>40.741365</td>\n",
       "      <td>1</td>\n",
       "      <td>3.873962</td>\n",
       "    </tr>\n",
       "    <tr>\n",
       "      <th>9</th>\n",
       "      <td>2014-02-18 15:22:20.000000200</td>\n",
       "      <td>2014-02-18 15:22:20+00:00</td>\n",
       "      <td>-73.969582</td>\n",
       "      <td>40.765519</td>\n",
       "      <td>-73.980686</td>\n",
       "      <td>40.770725</td>\n",
       "      <td>1</td>\n",
       "      <td>1.099794</td>\n",
       "    </tr>\n",
       "  </tbody>\n",
       "</table>\n",
       "</div>"
      ],
      "text/plain": [
       "                            key           pickup_datetime  pickup_longitude  \\\n",
       "0 2015-01-27 13:08:24.000000200 2015-01-27 13:08:24+00:00        -73.973320   \n",
       "1 2015-01-27 13:08:24.000000300 2015-01-27 13:08:24+00:00        -73.986862   \n",
       "2 2011-10-08 11:53:44.000000200 2011-10-08 11:53:44+00:00        -73.982524   \n",
       "3 2012-12-01 21:12:12.000000200 2012-12-01 21:12:12+00:00        -73.981160   \n",
       "4 2012-12-01 21:12:12.000000300 2012-12-01 21:12:12+00:00        -73.966046   \n",
       "5 2012-12-01 21:12:12.000000500 2012-12-01 21:12:12+00:00        -73.960983   \n",
       "6 2011-10-06 12:10:20.000000100 2011-10-06 12:10:20+00:00        -73.949013   \n",
       "7 2011-10-06 12:10:20.000000300 2011-10-06 12:10:20+00:00        -73.777282   \n",
       "8 2011-10-06 12:10:20.000000200 2011-10-06 12:10:20+00:00        -74.014099   \n",
       "9 2014-02-18 15:22:20.000000200 2014-02-18 15:22:20+00:00        -73.969582   \n",
       "\n",
       "   pickup_latitude  dropoff_longitude  dropoff_latitude  passenger_count  \\\n",
       "0        40.763805         -73.981430         40.743835                1   \n",
       "1        40.719383         -73.998886         40.739201                1   \n",
       "2        40.751260         -73.979654         40.746139                1   \n",
       "3        40.767807         -73.990448         40.751635                1   \n",
       "4        40.789775         -73.988565         40.744427                1   \n",
       "5        40.765547         -73.979177         40.740053                1   \n",
       "6        40.773204         -73.959622         40.770893                1   \n",
       "7        40.646636         -73.985083         40.759368                1   \n",
       "8        40.709638         -73.995106         40.741365                1   \n",
       "9        40.765519         -73.980686         40.770725                1   \n",
       "\n",
       "   H_Distance  \n",
       "0    2.323260  \n",
       "1    2.425353  \n",
       "2    0.618628  \n",
       "3    1.961033  \n",
       "4    5.387301  \n",
       "5    3.222549  \n",
       "6    0.929601  \n",
       "7   21.540102  \n",
       "8    3.873962  \n",
       "9    1.099794  "
      ]
     },
     "execution_count": 23,
     "metadata": {},
     "output_type": "execute_result"
    }
   ],
   "source": [
    "test.head(10)"
   ]
  },
  {
   "cell_type": "code",
   "execution_count": 24,
   "id": "96c82610",
   "metadata": {
    "execution": {
     "iopub.execute_input": "2021-12-14T10:53:11.426487Z",
     "iopub.status.busy": "2021-12-14T10:53:11.425751Z",
     "iopub.status.idle": "2021-12-14T10:53:11.434072Z",
     "shell.execute_reply": "2021-12-14T10:53:11.433528Z",
     "shell.execute_reply.started": "2021-12-14T10:51:33.961521Z"
    },
    "papermill": {
     "duration": 0.061822,
     "end_time": "2021-12-14T10:53:11.434229",
     "exception": false,
     "start_time": "2021-12-14T10:53:11.372407",
     "status": "completed"
    },
    "tags": []
   },
   "outputs": [
    {
     "data": {
      "text/plain": [
       "count    9997.000000\n",
       "mean       12.714536\n",
       "std       275.747918\n",
       "min         0.000000\n",
       "25%         1.206518\n",
       "50%         2.120232\n",
       "75%         3.874790\n",
       "max      8667.542104\n",
       "Name: H_Distance, dtype: float64"
      ]
     },
     "execution_count": 24,
     "metadata": {},
     "output_type": "execute_result"
    }
   ],
   "source": [
    "train['H_Distance'].describe()"
   ]
  },
  {
   "cell_type": "code",
   "execution_count": 25,
   "id": "8e9ae5db",
   "metadata": {
    "execution": {
     "iopub.execute_input": "2021-12-14T10:53:11.546196Z",
     "iopub.status.busy": "2021-12-14T10:53:11.537253Z",
     "iopub.status.idle": "2021-12-14T10:53:11.550272Z",
     "shell.execute_reply": "2021-12-14T10:53:11.549595Z",
     "shell.execute_reply.started": "2021-12-14T10:51:33.976329Z"
    },
    "papermill": {
     "duration": 0.066658,
     "end_time": "2021-12-14T10:53:11.550438",
     "exception": false,
     "start_time": "2021-12-14T10:53:11.483780",
     "status": "completed"
    },
    "tags": []
   },
   "outputs": [
    {
     "data": {
      "text/html": [
       "<div>\n",
       "<style scoped>\n",
       "    .dataframe tbody tr th:only-of-type {\n",
       "        vertical-align: middle;\n",
       "    }\n",
       "\n",
       "    .dataframe tbody tr th {\n",
       "        vertical-align: top;\n",
       "    }\n",
       "\n",
       "    .dataframe thead th {\n",
       "        text-align: right;\n",
       "    }\n",
       "</style>\n",
       "<table border=\"1\" class=\"dataframe\">\n",
       "  <thead>\n",
       "    <tr style=\"text-align: right;\">\n",
       "      <th></th>\n",
       "      <th>key</th>\n",
       "      <th>fare_amount</th>\n",
       "      <th>pickup_datetime</th>\n",
       "      <th>pickup_longitude</th>\n",
       "      <th>pickup_latitude</th>\n",
       "      <th>dropoff_longitude</th>\n",
       "      <th>dropoff_latitude</th>\n",
       "      <th>passenger_count</th>\n",
       "      <th>H_Distance</th>\n",
       "    </tr>\n",
       "  </thead>\n",
       "  <tbody>\n",
       "  </tbody>\n",
       "</table>\n",
       "</div>"
      ],
      "text/plain": [
       "Empty DataFrame\n",
       "Columns: [key, fare_amount, pickup_datetime, pickup_longitude, pickup_latitude, dropoff_longitude, dropoff_latitude, passenger_count, H_Distance]\n",
       "Index: []"
      ]
     },
     "execution_count": 25,
     "metadata": {},
     "output_type": "execute_result"
    }
   ],
   "source": [
    "train.loc[((train['pickup_latitude']==0)&(train['pickup_longitude']==0))&((train['dropoff_latitude']\n",
    "          !=0) & (train['dropoff_longitude']!=0))& (train['fare_amount']==0)]"
   ]
  },
  {
   "cell_type": "code",
   "execution_count": 26,
   "id": "3bcc5bf8",
   "metadata": {
    "execution": {
     "iopub.execute_input": "2021-12-14T10:53:11.658209Z",
     "iopub.status.busy": "2021-12-14T10:53:11.657145Z",
     "iopub.status.idle": "2021-12-14T10:53:11.662523Z",
     "shell.execute_reply": "2021-12-14T10:53:11.663168Z",
     "shell.execute_reply.started": "2021-12-14T10:51:33.993533Z"
    },
    "papermill": {
     "duration": 0.063948,
     "end_time": "2021-12-14T10:53:11.663365",
     "exception": false,
     "start_time": "2021-12-14T10:53:11.599417",
     "status": "completed"
    },
    "tags": []
   },
   "outputs": [],
   "source": [
    "train = train.drop(train.loc[((train['pickup_latitude']==0) & (train['pickup_longitude']==0))\n",
    "&((train['dropoff_latitude']!=0)& (train['dropoff_longitude']!=0)) & (train['fare_amount']==0)].index, axis=0)"
   ]
  },
  {
   "cell_type": "code",
   "execution_count": 27,
   "id": "bb45bb10",
   "metadata": {
    "execution": {
     "iopub.execute_input": "2021-12-14T10:53:11.769331Z",
     "iopub.status.busy": "2021-12-14T10:53:11.768312Z",
     "iopub.status.idle": "2021-12-14T10:53:11.782098Z",
     "shell.execute_reply": "2021-12-14T10:53:11.782579Z",
     "shell.execute_reply.started": "2021-12-14T10:51:34.004100Z"
    },
    "papermill": {
     "duration": 0.069049,
     "end_time": "2021-12-14T10:53:11.782794",
     "exception": false,
     "start_time": "2021-12-14T10:53:11.713745",
     "status": "completed"
    },
    "tags": []
   },
   "outputs": [
    {
     "data": {
      "text/html": [
       "<div>\n",
       "<style scoped>\n",
       "    .dataframe tbody tr th:only-of-type {\n",
       "        vertical-align: middle;\n",
       "    }\n",
       "\n",
       "    .dataframe tbody tr th {\n",
       "        vertical-align: top;\n",
       "    }\n",
       "\n",
       "    .dataframe thead th {\n",
       "        text-align: right;\n",
       "    }\n",
       "</style>\n",
       "<table border=\"1\" class=\"dataframe\">\n",
       "  <thead>\n",
       "    <tr style=\"text-align: right;\">\n",
       "      <th></th>\n",
       "      <th>key</th>\n",
       "      <th>fare_amount</th>\n",
       "      <th>pickup_datetime</th>\n",
       "      <th>pickup_longitude</th>\n",
       "      <th>pickup_latitude</th>\n",
       "      <th>dropoff_longitude</th>\n",
       "      <th>dropoff_latitude</th>\n",
       "      <th>passenger_count</th>\n",
       "      <th>H_Distance</th>\n",
       "    </tr>\n",
       "  </thead>\n",
       "  <tbody>\n",
       "  </tbody>\n",
       "</table>\n",
       "</div>"
      ],
      "text/plain": [
       "Empty DataFrame\n",
       "Columns: [key, fare_amount, pickup_datetime, pickup_longitude, pickup_latitude, dropoff_longitude, dropoff_latitude, passenger_count, H_Distance]\n",
       "Index: []"
      ]
     },
     "execution_count": 27,
     "metadata": {},
     "output_type": "execute_result"
    }
   ],
   "source": [
    "train.loc[((train['pickup_latitude']!=0) & (train['pickup_longitude']!=0))\n",
    "&((train['dropoff_latitude']==0) & (train['dropoff_longitude']==0))&(train['fare_amount']==0)]"
   ]
  },
  {
   "cell_type": "code",
   "execution_count": 28,
   "id": "b722f626",
   "metadata": {
    "execution": {
     "iopub.execute_input": "2021-12-14T10:53:11.888230Z",
     "iopub.status.busy": "2021-12-14T10:53:11.887511Z",
     "iopub.status.idle": "2021-12-14T10:53:11.896026Z",
     "shell.execute_reply": "2021-12-14T10:53:11.896541Z",
     "shell.execute_reply.started": "2021-12-14T10:51:34.021020Z"
    },
    "papermill": {
     "duration": 0.064292,
     "end_time": "2021-12-14T10:53:11.896780",
     "exception": false,
     "start_time": "2021-12-14T10:53:11.832488",
     "status": "completed"
    },
    "tags": []
   },
   "outputs": [],
   "source": [
    "train = train.drop(train.loc[((train['pickup_latitude']!=0) & (train['pickup_longitude']!=0))\n",
    "&((train['dropoff_latitude']==0)&(train['dropoff_longitude']==0)) & (train['fare_amount']==0)].index, axis=0)"
   ]
  },
  {
   "cell_type": "code",
   "execution_count": 29,
   "id": "d3989b61",
   "metadata": {
    "execution": {
     "iopub.execute_input": "2021-12-14T10:53:11.997388Z",
     "iopub.status.busy": "2021-12-14T10:53:11.996669Z",
     "iopub.status.idle": "2021-12-14T10:53:12.003448Z",
     "shell.execute_reply": "2021-12-14T10:53:12.003986Z",
     "shell.execute_reply.started": "2021-12-14T10:51:34.032493Z"
    },
    "papermill": {
     "duration": 0.058882,
     "end_time": "2021-12-14T10:53:12.004186",
     "exception": false,
     "start_time": "2021-12-14T10:53:11.945304",
     "status": "completed"
    },
    "tags": []
   },
   "outputs": [],
   "source": [
    "train = train.drop(train.loc[(train['H_Distance']>200)&(train['fare_amount']!=0)].index,axis=0)"
   ]
  },
  {
   "cell_type": "code",
   "execution_count": 30,
   "id": "0017f7fa",
   "metadata": {
    "execution": {
     "iopub.execute_input": "2021-12-14T10:53:12.107048Z",
     "iopub.status.busy": "2021-12-14T10:53:12.106333Z",
     "iopub.status.idle": "2021-12-14T10:53:12.117578Z",
     "shell.execute_reply": "2021-12-14T10:53:12.118056Z",
     "shell.execute_reply.started": "2021-12-14T10:51:34.042672Z"
    },
    "papermill": {
     "duration": 0.06528,
     "end_time": "2021-12-14T10:53:12.118265",
     "exception": false,
     "start_time": "2021-12-14T10:53:12.052985",
     "status": "completed"
    },
    "tags": []
   },
   "outputs": [
    {
     "data": {
      "text/html": [
       "<div>\n",
       "<style scoped>\n",
       "    .dataframe tbody tr th:only-of-type {\n",
       "        vertical-align: middle;\n",
       "    }\n",
       "\n",
       "    .dataframe tbody tr th {\n",
       "        vertical-align: top;\n",
       "    }\n",
       "\n",
       "    .dataframe thead th {\n",
       "        text-align: right;\n",
       "    }\n",
       "</style>\n",
       "<table border=\"1\" class=\"dataframe\">\n",
       "  <thead>\n",
       "    <tr style=\"text-align: right;\">\n",
       "      <th></th>\n",
       "      <th>key</th>\n",
       "      <th>fare_amount</th>\n",
       "      <th>pickup_datetime</th>\n",
       "      <th>pickup_longitude</th>\n",
       "      <th>pickup_latitude</th>\n",
       "      <th>dropoff_longitude</th>\n",
       "      <th>dropoff_latitude</th>\n",
       "      <th>passenger_count</th>\n",
       "      <th>H_Distance</th>\n",
       "    </tr>\n",
       "  </thead>\n",
       "  <tbody>\n",
       "  </tbody>\n",
       "</table>\n",
       "</div>"
      ],
      "text/plain": [
       "Empty DataFrame\n",
       "Columns: [key, fare_amount, pickup_datetime, pickup_longitude, pickup_latitude, dropoff_longitude, dropoff_latitude, passenger_count, H_Distance]\n",
       "Index: []"
      ]
     },
     "execution_count": 30,
     "metadata": {},
     "output_type": "execute_result"
    }
   ],
   "source": [
    "train.loc[(train['H_Distance']==0) & (train['fare_amount'] < 2.5)]"
   ]
  },
  {
   "cell_type": "code",
   "execution_count": 31,
   "id": "0996df73",
   "metadata": {
    "execution": {
     "iopub.execute_input": "2021-12-14T10:53:12.218783Z",
     "iopub.status.busy": "2021-12-14T10:53:12.218156Z",
     "iopub.status.idle": "2021-12-14T10:53:12.225456Z",
     "shell.execute_reply": "2021-12-14T10:53:12.226005Z",
     "shell.execute_reply.started": "2021-12-14T10:51:34.058141Z"
    },
    "papermill": {
     "duration": 0.059073,
     "end_time": "2021-12-14T10:53:12.226188",
     "exception": false,
     "start_time": "2021-12-14T10:53:12.167115",
     "status": "completed"
    },
    "tags": []
   },
   "outputs": [],
   "source": [
    "train = train.drop(train.loc[(train['H_Distance']==0) & (train['fare_amount'] < 2.5)].index,axis=0)"
   ]
  },
  {
   "cell_type": "code",
   "execution_count": 32,
   "id": "7c04562e",
   "metadata": {
    "execution": {
     "iopub.execute_input": "2021-12-14T10:53:12.327105Z",
     "iopub.status.busy": "2021-12-14T10:53:12.326465Z",
     "iopub.status.idle": "2021-12-14T10:53:12.331637Z",
     "shell.execute_reply": "2021-12-14T10:53:12.332118Z",
     "shell.execute_reply.started": "2021-12-14T10:51:34.066301Z"
    },
    "papermill": {
     "duration": 0.057837,
     "end_time": "2021-12-14T10:53:12.332325",
     "exception": false,
     "start_time": "2021-12-14T10:53:12.274488",
     "status": "completed"
    },
    "tags": []
   },
   "outputs": [],
   "source": [
    "F3h0 = train.loc[(train['fare_amount']>3)&(train['H_Distance']==0)]"
   ]
  },
  {
   "cell_type": "code",
   "execution_count": 33,
   "id": "80108100",
   "metadata": {
    "execution": {
     "iopub.execute_input": "2021-12-14T10:53:12.432892Z",
     "iopub.status.busy": "2021-12-14T10:53:12.432241Z",
     "iopub.status.idle": "2021-12-14T10:53:12.475510Z",
     "shell.execute_reply": "2021-12-14T10:53:12.474847Z",
     "shell.execute_reply.started": "2021-12-14T10:51:34.076459Z"
    },
    "papermill": {
     "duration": 0.094773,
     "end_time": "2021-12-14T10:53:12.475691",
     "exception": false,
     "start_time": "2021-12-14T10:53:12.380918",
     "status": "completed"
    },
    "tags": []
   },
   "outputs": [
    {
     "name": "stderr",
     "output_type": "stream",
     "text": [
      "/opt/conda/lib/python3.7/site-packages/ipykernel_launcher.py:1: SettingWithCopyWarning: \n",
      "A value is trying to be set on a copy of a slice from a DataFrame.\n",
      "Try using .loc[row_indexer,col_indexer] = value instead\n",
      "\n",
      "See the caveats in the documentation: https://pandas.pydata.org/pandas-docs/stable/user_guide/indexing.html#returning-a-view-versus-a-copy\n",
      "  \"\"\"Entry point for launching an IPython kernel.\n"
     ]
    }
   ],
   "source": [
    "F3h0['H_Distance'] = F3h0.apply(lambda row: ((row['fare_amount']-2.50)/1.56), axis=1)\n",
    "train.update(F3h0)"
   ]
  },
  {
   "cell_type": "code",
   "execution_count": 34,
   "id": "29817ced",
   "metadata": {
    "execution": {
     "iopub.execute_input": "2021-12-14T10:53:12.581180Z",
     "iopub.status.busy": "2021-12-14T10:53:12.580401Z",
     "iopub.status.idle": "2021-12-14T10:53:12.583378Z",
     "shell.execute_reply": "2021-12-14T10:53:12.583975Z",
     "shell.execute_reply.started": "2021-12-14T10:51:34.127012Z"
    },
    "papermill": {
     "duration": 0.056276,
     "end_time": "2021-12-14T10:53:12.584208",
     "exception": false,
     "start_time": "2021-12-14T10:53:12.527932",
     "status": "completed"
    },
    "tags": []
   },
   "outputs": [],
   "source": [
    "#用公式计算车费\n",
    "#H1f0 = train.loc[(train['H_Distance']!=0) & (train['fare_amount']==0)]\n",
    "#H1f0['fare_amount'] = H1f0.apply(lambda row: (row['H_Distance']*1.56+2.5),axis=1)\n",
    "#train.update(H1f0)"
   ]
  },
  {
   "cell_type": "code",
   "execution_count": 35,
   "id": "5654b974",
   "metadata": {
    "execution": {
     "iopub.execute_input": "2021-12-14T10:53:12.686297Z",
     "iopub.status.busy": "2021-12-14T10:53:12.685570Z",
     "iopub.status.idle": "2021-12-14T10:53:12.708822Z",
     "shell.execute_reply": "2021-12-14T10:53:12.709355Z",
     "shell.execute_reply.started": "2021-12-14T10:51:34.131975Z"
    },
    "papermill": {
     "duration": 0.075439,
     "end_time": "2021-12-14T10:53:12.709561",
     "exception": false,
     "start_time": "2021-12-14T10:53:12.634122",
     "status": "completed"
    },
    "tags": []
   },
   "outputs": [],
   "source": [
    "data = [train,test]\n",
    "for i in data:\n",
    "    i['Year'] = i['pickup_datetime'].dt.year\n",
    "    i['Month'] = i['pickup_datetime'].dt.month\n",
    "    i['Date'] = i['pickup_datetime'].dt.day\n",
    "    i['Day of week'] = i['pickup_datetime'].dt.dayofweek\n",
    "    i['Hour'] = i['pickup_datetime'].dt.hour"
   ]
  },
  {
   "cell_type": "code",
   "execution_count": 36,
   "id": "d152db8b",
   "metadata": {
    "execution": {
     "iopub.execute_input": "2021-12-14T10:53:12.809987Z",
     "iopub.status.busy": "2021-12-14T10:53:12.809367Z",
     "iopub.status.idle": "2021-12-14T10:53:12.828374Z",
     "shell.execute_reply": "2021-12-14T10:53:12.828853Z",
     "shell.execute_reply.started": "2021-12-14T10:51:34.160741Z"
    },
    "papermill": {
     "duration": 0.070545,
     "end_time": "2021-12-14T10:53:12.829049",
     "exception": false,
     "start_time": "2021-12-14T10:53:12.758504",
     "status": "completed"
    },
    "tags": []
   },
   "outputs": [
    {
     "data": {
      "text/html": [
       "<div>\n",
       "<style scoped>\n",
       "    .dataframe tbody tr th:only-of-type {\n",
       "        vertical-align: middle;\n",
       "    }\n",
       "\n",
       "    .dataframe tbody tr th {\n",
       "        vertical-align: top;\n",
       "    }\n",
       "\n",
       "    .dataframe thead th {\n",
       "        text-align: right;\n",
       "    }\n",
       "</style>\n",
       "<table border=\"1\" class=\"dataframe\">\n",
       "  <thead>\n",
       "    <tr style=\"text-align: right;\">\n",
       "      <th></th>\n",
       "      <th>key</th>\n",
       "      <th>fare_amount</th>\n",
       "      <th>pickup_datetime</th>\n",
       "      <th>pickup_longitude</th>\n",
       "      <th>pickup_latitude</th>\n",
       "      <th>dropoff_longitude</th>\n",
       "      <th>dropoff_latitude</th>\n",
       "      <th>passenger_count</th>\n",
       "      <th>H_Distance</th>\n",
       "      <th>Year</th>\n",
       "      <th>Month</th>\n",
       "      <th>Date</th>\n",
       "      <th>Day of week</th>\n",
       "      <th>Hour</th>\n",
       "    </tr>\n",
       "  </thead>\n",
       "  <tbody>\n",
       "    <tr>\n",
       "      <th>0</th>\n",
       "      <td>2009-06-15 17:26:21.000000100</td>\n",
       "      <td>4.5</td>\n",
       "      <td>2009-06-15 17:26:21+00:00</td>\n",
       "      <td>-73.844311</td>\n",
       "      <td>40.721319</td>\n",
       "      <td>-73.841610</td>\n",
       "      <td>40.712278</td>\n",
       "      <td>1.0</td>\n",
       "      <td>1.030764</td>\n",
       "      <td>2009</td>\n",
       "      <td>6</td>\n",
       "      <td>15</td>\n",
       "      <td>0</td>\n",
       "      <td>17</td>\n",
       "    </tr>\n",
       "    <tr>\n",
       "      <th>1</th>\n",
       "      <td>2010-01-05 16:52:16.000000200</td>\n",
       "      <td>16.9</td>\n",
       "      <td>2010-01-05 16:52:16+00:00</td>\n",
       "      <td>-74.016048</td>\n",
       "      <td>40.711303</td>\n",
       "      <td>-73.979268</td>\n",
       "      <td>40.782004</td>\n",
       "      <td>1.0</td>\n",
       "      <td>8.450134</td>\n",
       "      <td>2010</td>\n",
       "      <td>1</td>\n",
       "      <td>5</td>\n",
       "      <td>1</td>\n",
       "      <td>16</td>\n",
       "    </tr>\n",
       "    <tr>\n",
       "      <th>2</th>\n",
       "      <td>2011-08-18 00:35:00.000000490</td>\n",
       "      <td>5.7</td>\n",
       "      <td>2011-08-18 00:35:00+00:00</td>\n",
       "      <td>-73.982738</td>\n",
       "      <td>40.761270</td>\n",
       "      <td>-73.991242</td>\n",
       "      <td>40.750562</td>\n",
       "      <td>2.0</td>\n",
       "      <td>1.389525</td>\n",
       "      <td>2011</td>\n",
       "      <td>8</td>\n",
       "      <td>18</td>\n",
       "      <td>3</td>\n",
       "      <td>0</td>\n",
       "    </tr>\n",
       "    <tr>\n",
       "      <th>3</th>\n",
       "      <td>2012-04-21 04:30:42.000000100</td>\n",
       "      <td>7.7</td>\n",
       "      <td>2012-04-21 04:30:42+00:00</td>\n",
       "      <td>-73.987130</td>\n",
       "      <td>40.733143</td>\n",
       "      <td>-73.991567</td>\n",
       "      <td>40.758092</td>\n",
       "      <td>1.0</td>\n",
       "      <td>2.799270</td>\n",
       "      <td>2012</td>\n",
       "      <td>4</td>\n",
       "      <td>21</td>\n",
       "      <td>5</td>\n",
       "      <td>4</td>\n",
       "    </tr>\n",
       "    <tr>\n",
       "      <th>4</th>\n",
       "      <td>2010-03-09 07:51:00.000000135</td>\n",
       "      <td>5.3</td>\n",
       "      <td>2010-03-09 07:51:00+00:00</td>\n",
       "      <td>-73.968095</td>\n",
       "      <td>40.768008</td>\n",
       "      <td>-73.956655</td>\n",
       "      <td>40.783762</td>\n",
       "      <td>1.0</td>\n",
       "      <td>1.999157</td>\n",
       "      <td>2010</td>\n",
       "      <td>3</td>\n",
       "      <td>9</td>\n",
       "      <td>1</td>\n",
       "      <td>7</td>\n",
       "    </tr>\n",
       "  </tbody>\n",
       "</table>\n",
       "</div>"
      ],
      "text/plain": [
       "                            key  fare_amount           pickup_datetime  \\\n",
       "0 2009-06-15 17:26:21.000000100          4.5 2009-06-15 17:26:21+00:00   \n",
       "1 2010-01-05 16:52:16.000000200         16.9 2010-01-05 16:52:16+00:00   \n",
       "2 2011-08-18 00:35:00.000000490          5.7 2011-08-18 00:35:00+00:00   \n",
       "3 2012-04-21 04:30:42.000000100          7.7 2012-04-21 04:30:42+00:00   \n",
       "4 2010-03-09 07:51:00.000000135          5.3 2010-03-09 07:51:00+00:00   \n",
       "\n",
       "   pickup_longitude  pickup_latitude  dropoff_longitude  dropoff_latitude  \\\n",
       "0        -73.844311        40.721319         -73.841610         40.712278   \n",
       "1        -74.016048        40.711303         -73.979268         40.782004   \n",
       "2        -73.982738        40.761270         -73.991242         40.750562   \n",
       "3        -73.987130        40.733143         -73.991567         40.758092   \n",
       "4        -73.968095        40.768008         -73.956655         40.783762   \n",
       "\n",
       "   passenger_count  H_Distance  Year  Month  Date  Day of week  Hour  \n",
       "0              1.0    1.030764  2009      6    15            0    17  \n",
       "1              1.0    8.450134  2010      1     5            1    16  \n",
       "2              2.0    1.389525  2011      8    18            3     0  \n",
       "3              1.0    2.799270  2012      4    21            5     4  \n",
       "4              1.0    1.999157  2010      3     9            1     7  "
      ]
     },
     "execution_count": 36,
     "metadata": {},
     "output_type": "execute_result"
    }
   ],
   "source": [
    "train.head()"
   ]
  },
  {
   "cell_type": "code",
   "execution_count": 37,
   "id": "34dbe623",
   "metadata": {
    "execution": {
     "iopub.execute_input": "2021-12-14T10:53:12.931502Z",
     "iopub.status.busy": "2021-12-14T10:53:12.930853Z",
     "iopub.status.idle": "2021-12-14T10:53:12.940263Z",
     "shell.execute_reply": "2021-12-14T10:53:12.940811Z",
     "shell.execute_reply.started": "2021-12-14T10:51:34.182502Z"
    },
    "papermill": {
     "duration": 0.062833,
     "end_time": "2021-12-14T10:53:12.941003",
     "exception": false,
     "start_time": "2021-12-14T10:53:12.878170",
     "status": "completed"
    },
    "tags": []
   },
   "outputs": [],
   "source": [
    "train = train.drop(['key','pickup_datetime'], axis = 1)\n",
    "test = test.drop(['key','pickup_datetime'], axis = 1)"
   ]
  },
  {
   "cell_type": "code",
   "execution_count": 38,
   "id": "c843c791",
   "metadata": {
    "execution": {
     "iopub.execute_input": "2021-12-14T10:53:13.045218Z",
     "iopub.status.busy": "2021-12-14T10:53:13.044481Z",
     "iopub.status.idle": "2021-12-14T10:53:14.425762Z",
     "shell.execute_reply": "2021-12-14T10:53:14.425079Z",
     "shell.execute_reply.started": "2021-12-14T10:51:34.200140Z"
    },
    "papermill": {
     "duration": 1.435042,
     "end_time": "2021-12-14T10:53:14.425920",
     "exception": false,
     "start_time": "2021-12-14T10:53:12.990878",
     "status": "completed"
    },
    "tags": []
   },
   "outputs": [
    {
     "data": {
      "image/png": "[encoded data removed]",
      "text/plain": [
       "<Figure size 1080x504 with 1 Axes>"
      ]
     },
     "metadata": {
      "needs_background": "light"
     },
     "output_type": "display_data"
    }
   ],
   "source": [
    "#导入包\n",
    "import seaborn as sns\n",
    "import matplotlib.pyplot as plt\n",
    "plt.rcParams['font.sans-serif']=['SimHei']\n",
    "plt.rcParams['axes.unicode_minus'] = False\n",
    "plt.figure(figsize=(15,7))\n",
    "plt.scatter(x=train['passenger_count'],y=train['fare_amount'],s=1.5)\n",
    "plt.title('Relationship between number of passengers and price')\n",
    "plt.xlabel('Number of passengers')\n",
    "plt.ylabel('Price')\n",
    "plt.show()"
   ]
  },
  {
   "cell_type": "code",
   "execution_count": 39,
   "id": "77096bc8",
   "metadata": {
    "execution": {
     "iopub.execute_input": "2021-12-14T10:53:14.545042Z",
     "iopub.status.busy": "2021-12-14T10:53:14.544294Z",
     "iopub.status.idle": "2021-12-14T10:53:14.796758Z",
     "shell.execute_reply": "2021-12-14T10:53:14.795884Z",
     "shell.execute_reply.started": "2021-12-14T10:51:35.446494Z"
    },
    "papermill": {
     "duration": 0.319564,
     "end_time": "2021-12-14T10:53:14.796951",
     "exception": false,
     "start_time": "2021-12-14T10:53:14.477387",
     "status": "completed"
    },
    "tags": []
   },
   "outputs": [
    {
     "data": {
      "image/png": "[encoded data removed]",
      "text/plain": [
       "<Figure size 1080x504 with 1 Axes>"
      ]
     },
     "metadata": {
      "needs_background": "light"
     },
     "output_type": "display_data"
    }
   ],
   "source": [
    "plt.figure(figsize=(15,7))\n",
    "plt.scatter(x=train['Hour'],y=train['fare_amount'],s=1.5)\n",
    "plt.title('Relationship between time and price')\n",
    "plt.xlabel('time')\n",
    "plt.ylabel('Price')\n",
    "plt.show()"
   ]
  },
  {
   "cell_type": "code",
   "execution_count": 40,
   "id": "35d1bdb3",
   "metadata": {
    "execution": {
     "iopub.execute_input": "2021-12-14T10:53:14.907771Z",
     "iopub.status.busy": "2021-12-14T10:53:14.906769Z",
     "iopub.status.idle": "2021-12-14T10:53:15.163629Z",
     "shell.execute_reply": "2021-12-14T10:53:15.164112Z",
     "shell.execute_reply.started": "2021-12-14T10:51:35.682033Z"
    },
    "papermill": {
     "duration": 0.314945,
     "end_time": "2021-12-14T10:53:15.164322",
     "exception": false,
     "start_time": "2021-12-14T10:53:14.849377",
     "status": "completed"
    },
    "tags": []
   },
   "outputs": [
    {
     "data": {
      "image/png": "[encoded data removed]",
      "text/plain": [
       "<Figure size 1080x504 with 1 Axes>"
      ]
     },
     "metadata": {
      "needs_background": "light"
     },
     "output_type": "display_data"
    }
   ],
   "source": [
    "plt.rcParams['font.sans-serif']=['SimHei']\n",
    "plt.rcParams['axes.unicode_minus'] = False\n",
    "plt.figure(figsize=(15,7))\n",
    "plt.scatter(x=train['Date'],y=train['fare_amount'],s=1.5)\n",
    "plt.title('Relationship between date and price')\n",
    "plt.xlabel('date')\n",
    "plt.ylabel('Price')\n",
    "plt.show()"
   ]
  },
  {
   "cell_type": "code",
   "execution_count": 41,
   "id": "6c71566b",
   "metadata": {
    "execution": {
     "iopub.execute_input": "2021-12-14T10:53:15.273148Z",
     "iopub.status.busy": "2021-12-14T10:53:15.272418Z",
     "iopub.status.idle": "2021-12-14T10:53:15.531249Z",
     "shell.execute_reply": "2021-12-14T10:53:15.530521Z",
     "shell.execute_reply.started": "2021-12-14T10:51:35.926296Z"
    },
    "papermill": {
     "duration": 0.314688,
     "end_time": "2021-12-14T10:53:15.531394",
     "exception": false,
     "start_time": "2021-12-14T10:53:15.216706",
     "status": "completed"
    },
    "tags": []
   },
   "outputs": [
    {
     "data": {
      "image/png": "[encoded data removed]",
      "text/plain": [
       "<Figure size 1080x504 with 1 Axes>"
      ]
     },
     "metadata": {
      "needs_background": "light"
     },
     "output_type": "display_data"
    }
   ],
   "source": [
    "plt.rcParams['font.sans-serif']=['SimHei']\n",
    "plt.rcParams['axes.unicode_minus'] = False\n",
    "plt.figure(figsize=(15,7))\n",
    "plt.scatter(x=train['Day of week'],y=train['fare_amount'],s=1.5)\n",
    "plt.title('Relationship between week and price')\n",
    "plt.xlabel('week')\n",
    "plt.ylabel('Price')\n",
    "plt.show()"
   ]
  },
  {
   "cell_type": "code",
   "execution_count": 42,
   "id": "05bad6d0",
   "metadata": {
    "execution": {
     "iopub.execute_input": "2021-12-14T10:53:15.654940Z",
     "iopub.status.busy": "2021-12-14T10:53:15.653894Z",
     "iopub.status.idle": "2021-12-14T10:53:15.660789Z",
     "shell.execute_reply": "2021-12-14T10:53:15.661270Z",
     "shell.execute_reply.started": "2021-12-14T10:51:36.169084Z"
    },
    "papermill": {
     "duration": 0.065508,
     "end_time": "2021-12-14T10:53:15.661466",
     "exception": false,
     "start_time": "2021-12-14T10:53:15.595958",
     "status": "completed"
    },
    "tags": []
   },
   "outputs": [],
   "source": [
    "x_train = train.iloc[:,train.columns!='fare_amount'] #测试集 x\n",
    "y_train = train['fare_amount'].values #测试集 y\n",
    "x_test = test #预测数据"
   ]
  },
  {
   "cell_type": "code",
   "execution_count": 43,
   "id": "7be4894c",
   "metadata": {
    "execution": {
     "iopub.execute_input": "2021-12-14T10:53:15.774988Z",
     "iopub.status.busy": "2021-12-14T10:53:15.774299Z",
     "iopub.status.idle": "2021-12-14T10:53:16.176977Z",
     "shell.execute_reply": "2021-12-14T10:53:16.176365Z",
     "shell.execute_reply.started": "2021-12-14T10:51:36.176825Z"
    },
    "papermill": {
     "duration": 0.461054,
     "end_time": "2021-12-14T10:53:16.177161",
     "exception": false,
     "start_time": "2021-12-14T10:53:15.716107",
     "status": "completed"
    },
    "tags": []
   },
   "outputs": [],
   "source": [
    "from sklearn.ensemble import RandomForestRegressor\n",
    "rf = RandomForestRegressor()"
   ]
  },
  {
   "cell_type": "code",
   "execution_count": 44,
   "id": "fbc7b1fa",
   "metadata": {
    "execution": {
     "iopub.execute_input": "2021-12-14T10:53:16.289956Z",
     "iopub.status.busy": "2021-12-14T10:53:16.289272Z",
     "iopub.status.idle": "2021-12-14T10:53:24.333205Z",
     "shell.execute_reply": "2021-12-14T10:53:24.332548Z",
     "shell.execute_reply.started": "2021-12-14T10:51:36.540070Z"
    },
    "papermill": {
     "duration": 8.102233,
     "end_time": "2021-12-14T10:53:24.333361",
     "exception": false,
     "start_time": "2021-12-14T10:53:16.231128",
     "status": "completed"
    },
    "tags": []
   },
   "outputs": [
    {
     "data": {
      "text/plain": [
       "RandomForestRegressor()"
      ]
     },
     "execution_count": 44,
     "metadata": {},
     "output_type": "execute_result"
    }
   ],
   "source": [
    "rf.fit(x_train, y_train)"
   ]
  },
  {
   "cell_type": "code",
   "execution_count": 45,
   "id": "1ebb5659",
   "metadata": {
    "execution": {
     "iopub.execute_input": "2021-12-14T10:53:24.451147Z",
     "iopub.status.busy": "2021-12-14T10:53:24.450475Z",
     "iopub.status.idle": "2021-12-14T10:53:24.683430Z",
     "shell.execute_reply": "2021-12-14T10:53:24.682925Z",
     "shell.execute_reply.started": "2021-12-14T10:51:44.567130Z"
    },
    "papermill": {
     "duration": 0.295565,
     "end_time": "2021-12-14T10:53:24.683585",
     "exception": false,
     "start_time": "2021-12-14T10:53:24.388020",
     "status": "completed"
    },
    "tags": []
   },
   "outputs": [
    {
     "data": {
      "text/plain": [
       "array([10.275 ,  9.656 ,  4.327 , ..., 52.8142, 22.8883,  7.821 ])"
      ]
     },
     "execution_count": 45,
     "metadata": {},
     "output_type": "execute_result"
    }
   ],
   "source": [
    "rf_predict = rf.predict(x_test)\n",
    "rf_predict"
   ]
  },
  {
   "cell_type": "code",
   "execution_count": 46,
   "id": "ff8f1f47",
   "metadata": {
    "execution": {
     "iopub.execute_input": "2021-12-14T10:53:24.801288Z",
     "iopub.status.busy": "2021-12-14T10:53:24.800526Z",
     "iopub.status.idle": "2021-12-14T10:53:24.876071Z",
     "shell.execute_reply": "2021-12-14T10:53:24.875344Z",
     "shell.execute_reply.started": "2021-12-14T10:51:44.790237Z"
    },
    "papermill": {
     "duration": 0.137573,
     "end_time": "2021-12-14T10:53:24.876235",
     "exception": false,
     "start_time": "2021-12-14T10:53:24.738662",
     "status": "completed"
    },
    "tags": []
   },
   "outputs": [],
   "source": [
    "submission = pd.read_csv('../input/new-york-city-taxi-fare-prediction/sample_submission.csv')\n",
    "submission['fare_amount'] = rf_predict\n",
    "submission.to_csv('./submission_1.csv', index=False)"
   ]
  }
 ],
 "metadata": {
  "kernelspec": {
   "display_name": "Python 3 (ipykernel)",
   "language": "python",
   "name": "python3"
  },
  "language_info": {
   "codemirror_mode": {
    "name": "ipython",
    "version": 3
   },
   "file_extension": ".py",
   "mimetype": "text/x-python",
   "name": "python",
   "nbconvert_exporter": "python",
   "pygments_lexer": "ipython3",
   "version": "3.9.6"
  },
  "papermill": {
   "default_parameters": {},
   "duration": 30.302966,
   "end_time": "2021-12-14T10:53:26.050383",
   "environment_variables": {},
   "exception": null,
   "input_path": "__notebook__.ipynb",
   "output_path": "__notebook__.ipynb",
   "parameters": {},
   "start_time": "2021-12-14T10:52:55.747417",
   "version": "2.3.3"
  }
 },
 "nbformat": 4,
 "nbformat_minor": 5
}
